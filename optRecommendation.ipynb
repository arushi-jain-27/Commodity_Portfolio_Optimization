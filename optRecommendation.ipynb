{
 "cells": [
  {
   "cell_type": "code",
   "execution_count": 1,
   "id": "5d78b3ff",
   "metadata": {},
   "outputs": [],
   "source": [
    "using DataFrames, CSV, Tables, Plots\n",
    "using JuMP, Gurobi"
   ]
  },
  {
   "cell_type": "code",
   "execution_count": 2,
   "id": "fa653361",
   "metadata": {},
   "outputs": [
    {
     "name": "stdout",
     "output_type": "stream",
     "text": [
      "Set parameter Username\r\n",
      "Academic license - for non-commercial use only - expires 2023-08-18\r\n"
     ]
    },
    {
     "data": {
      "text/plain": [
       "Gurobi.Env(Ptr{Nothing} @0x000000008169fb90, false, 0)"
      ]
     },
     "execution_count": 2,
     "metadata": {},
     "output_type": "execute_result"
    }
   ],
   "source": [
    "const GRB_ENV = Gurobi.Env()"
   ]
  },
  {
   "cell_type": "code",
   "execution_count": null,
   "id": "fc835ee8",
   "metadata": {},
   "outputs": [],
   "source": [
    "baseline = (CSV.File(\"./baseline.csv\") |> Tables.matrix)"
   ]
  },
  {
   "cell_type": "code",
   "execution_count": 3,
   "id": "ead6f9e7",
   "metadata": {},
   "outputs": [],
   "source": [
    "predictions = (CSV.File(\"../Processed data files/XGB_Predictions.csv\") |> Tables.matrix);\n",
    "consumptionUncertainity = (CSV.File(\"./consumptionUncertainity.csv\") |> Tables.matrix)"
   ]
  },
  {
   "cell_type": "code",
   "execution_count": 10,
   "id": "570976c7",
   "metadata": {},
   "outputs": [
    {
     "name": "stdout",
     "output_type": "stream",
     "text": [
      "Gurobi Optimizer version 9.5.2 build v9.5.2rc0 (win64)\r\n",
      "Thread count: 4 physical cores, 8 logical processors, using up to 8 threads\r\n",
      "Optimize a model with 18016 rows, 12010 columns and 94081 nonzeros\r\n",
      "Model fingerprint: 0x1ec417ce\r\n",
      "Variable types: 0 continuous, 12010 integer (12010 binary)\r\n",
      "Coefficient statistics:\r\n",
      "  Matrix range     [1e+00, 5e+05]\r\n",
      "  Objective range  [1e+00, 1e+00]\r\n",
      "  Bounds range     [0e+00, 0e+00]\r\n",
      "  RHS range        [1e+00, 1e+06]\r\n",
      "Found heuristic solution: objective -0.0000000\r\n",
      "Presolve removed 15886 rows and 10347 columns\r\n",
      "Presolve time: 0.46s\r\n",
      "Presolved: 2130 rows, 1663 columns, 11092 nonzeros\r\n",
      "Variable types: 0 continuous, 1663 integer (1657 binary)\r\n",
      "Found heuristic solution: objective 235.0000000\r\n",
      "\r\n",
      "Root relaxation: objective 3.874886e+02, 1448 iterations, 0.09 seconds (0.03 work units)\r\n",
      "\r\n",
      "    Nodes    |    Current Node    |     Objective Bounds      |     Work\r\n",
      " Expl Unexpl |  Obj  Depth IntInf | Incumbent    BestBd   Gap | It/Node Time\r\n",
      "\r\n",
      "     0     0  387.48861    0  260  235.00000  387.48861  64.9%     -    0s\r\n",
      "H    0     0                     313.0000000  387.48861  23.8%     -    0s\r\n",
      "H    0     0                     319.0000000  387.48861  21.5%     -    0s\r\n",
      "H    0     0                     335.0000000  387.48861  15.7%     -    0s\r\n",
      "H    0     0                     341.0000000  387.48861  13.6%     -    0s\r\n",
      "H    0     0                     342.0000000  361.57009  5.72%     -    1s\r\n",
      "H    0     0                     343.0000000  361.57009  5.41%     -    1s\r\n",
      "H    0     0                     344.0000000  361.57009  5.11%     -    1s\r\n",
      "H    0     0                     345.0000000  361.57009  4.80%     -    1s\r\n",
      "H    0     0                     347.0000000  361.57009  4.20%     -    1s\r\n",
      "     0     0  358.90180    0  450  347.00000  358.90180  3.43%     -    1s\r\n",
      "H    0     0                     348.0000000  358.90180  3.13%     -    1s\r\n",
      "     0     0  358.76528    0  413  348.00000  358.76528  3.09%     -    1s\r\n",
      "H    0     0                     349.0000000  358.69490  2.78%     -    1s\r\n",
      "     0     0  358.67917    0  399  349.00000  358.67917  2.77%     -    1s\r\n",
      "     0     0  358.67525    0  418  349.00000  358.67525  2.77%     -    1s\r\n",
      "H    0     0                     350.0000000  354.03434  1.15%     -    2s\r\n",
      "     0     0  353.94860    0  467  350.00000  353.94860  1.13%     -    2s\r\n",
      "     0     0  352.71026    0  425  350.00000  352.71026  0.77%     -    2s\r\n",
      "     0     0  352.38430    0  461  350.00000  352.38430  0.68%     -    2s\r\n",
      "     0     0  352.35025    0  421  350.00000  352.35025  0.67%     -    2s\r\n",
      "     0     0  352.34480    0  438  350.00000  352.34480  0.67%     -    2s\r\n",
      "     0     0  351.89118    0   24  350.00000  351.89118  0.54%     -    3s\r\n",
      "     0     0  351.89118    0  157  350.00000  351.89118  0.54%     -    3s\r\n",
      "     0     0  351.89118    0  202  350.00000  351.89118  0.54%     -    3s\r\n",
      "     0     0  351.89118    0   55  350.00000  351.89118  0.54%     -    3s\r\n",
      "     0     0  351.80000    0   15  350.00000  351.80000  0.51%     -    3s\r\n",
      "     0     0  351.45853    0   16  350.00000  351.45853  0.42%     -    4s\r\n",
      "     0     0  351.40323    0    8  350.00000  351.40323  0.40%     -    4s\r\n",
      "     0     0  351.32258    0    7  350.00000  351.32258  0.38%     -    4s\r\n",
      "     0     0  351.32258    0   16  350.00000  351.32258  0.38%     -    4s\r\n",
      "H    0     0                     351.0000000  351.32258  0.09%     -    4s\r\n",
      "\r\n",
      "Explored 1 nodes (5247 simplex iterations) in 4.19 seconds (0.80 work units)\r\n",
      "Thread count was 8 (of 8 available processors)\r\n",
      "\r\n",
      "Solution count 10: 351 350 350 ... 347\r\n",
      "\r\n",
      "Optimal solution found (tolerance 1.00e-04)\r\n",
      "Best objective 3.510000000000e+02, best bound 3.510000000000e+02, gap 0.0000%\r\n",
      "\r\n",
      "User-callback calls 1120, time in user-callback 0.02 sec\r\n"
     ]
    }
   ],
   "source": [
    "model = Model(() -> Gurobi.Optimizer(GRB_ENV));\n",
    "@variable(model, x[1:n,1:T] >= 0, Bin); \n",
    "@constraint(model,  sum(x[:,1].*budget) <= B)\n",
    "for t=2:T\n",
    "    @constraint(model, [i=1:n], sum(x[:,t-1].*A[i,:]) >= threshold[i]*x[i,t])\n",
    "    @constraint(model, [i=1:n], sum(x[:,t-1].*A[i,:]) <= threshold[i]+x[i,t])\n",
    "    @constraint(model, [i=1:n], x[i,t-1] <= x[i,t])\n",
    "end\n",
    "@objective(model, Max, sum(x[:,T]))\n",
    "optimize!(model)"
   ]
  },
  {
   "cell_type": "code",
   "execution_count": null,
   "id": "39976ed1",
   "metadata": {},
   "outputs": [],
   "source": []
  }
 ],
 "metadata": {
  "kernelspec": {
   "display_name": "Julia 1.8.2",
   "language": "julia",
   "name": "julia-1.8"
  },
  "language_info": {
   "file_extension": ".jl",
   "mimetype": "application/julia",
   "name": "julia",
   "version": "1.8.2"
  }
 },
 "nbformat": 4,
 "nbformat_minor": 5
}
